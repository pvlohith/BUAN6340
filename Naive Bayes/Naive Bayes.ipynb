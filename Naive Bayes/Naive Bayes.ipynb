
  {
   "cell_type": "markdown",
   "metadata": {},
   "source": [
    "#### Procedure followed\n",
    "1. There are two columns with text data, first is the title and second is the body of the message.\n",
    "2. Three models were built with the first analysing only text data, second analyzing only title data and the third analyzing both title and text.\n",
    "3. First the data was vectorized and then Tfidf was done before using Naive Bayes as the classification algorithm.\n",
    "4. For the third model, the columns were processed individually before concatening them for classification.\n"
   ]
  },
  {
   "cell_type": "code",
   "execution_count": 3,
   "metadata": {},
   "outputs": [],
   "source": [
    "# Importing required libraries\n",
    "import nltk\n",
    "import numpy as np\n",
    "import pandas as pd\n",
    "import matplotlib.pyplot as plt\n",
    "import seaborn as sns\n",
    "%matplotlib inline\n",
    "from nltk.corpus import stopwords\n",
    "import string\n",
    "from sklearn.feature_extraction.text import CountVectorizer\n",
    "from sklearn.naive_bayes import MultinomialNB\n",
    "from sklearn.metrics import accuracy_score\n",
    "from sklearn.feature_extraction.text import TfidfTransformer\n",
    "from sklearn.model_selection import train_test_split"
   ]
  },
  {
   "cell_type": "code",
   "execution_count": 4,
   "metadata": {
    "scrolled": true
   },
   "outputs": [],
   "source": [
    "#nltk.download_shell()"
   ]
  },
  {
   "cell_type": "code",
   "execution_count": null,
   "metadata": {},
   "outputs": [],
   "source": [
    "#Reading the data\n",
    "df=pd.read_csv('fake_or_real_news.csv')"
   ]
  },
  {
   "cell_type": "code",
   "execution_count": 6,
   "metadata": {},
   "outputs": [
    {
     "name": "stdout",
     "output_type": "stream",
     "text": [
      "<class 'pandas.core.frame.DataFrame'>\n",
      "RangeIndex: 6335 entries, 0 to 6334\n",
      "Data columns (total 4 columns):\n",
      "Unnamed: 0    6335 non-null int64\n",
      "title         6335 non-null object\n",
      "text          6335 non-null object\n",
      "label         6335 non-null object\n",
      "dtypes: int64(1), object(3)\n",
      "memory usage: 198.0+ KB\n"
     ]
    }
   ],
   "source": [
    "df.info()"
   ]
  },
  {
   "cell_type": "code",
   "execution_count": 7,
   "metadata": {},
   "outputs": [],
   "source": [
    "# Dropping the first column as it has no value\n",
    "df=df.drop('Unnamed: 0',axis=1)"
   ]
  },
  {
   "cell_type": "code",
   "execution_count": 8,
   "metadata": {},
   "outputs": [
    {
     "data": {
      "text/html": [
       "<div>\n",
       "<style scoped>\n",
       "    .dataframe tbody tr th:only-of-type {\n",
       "        vertical-align: middle;\n",
       "    }\n",
       "\n",
       "    .dataframe tbody tr th {\n",
       "        vertical-align: top;\n",
       "    }\n",
       "\n",
       "    .dataframe thead th {\n",
       "        text-align: right;\n",
       "    }\n",
       "</style>\n",
       "<table border=\"1\" class=\"dataframe\">\n",
       "  <thead>\n",
       "    <tr style=\"text-align: right;\">\n",
       "      <th></th>\n",
       "      <th>title</th>\n",
       "      <th>text</th>\n",
       "      <th>label</th>\n",
       "    </tr>\n",
       "  </thead>\n",
       "  <tbody>\n",
       "    <tr>\n",
       "      <th>count</th>\n",
       "      <td>6335</td>\n",
       "      <td>6335</td>\n",
       "      <td>6335</td>\n",
       "    </tr>\n",
       "    <tr>\n",
       "      <th>unique</th>\n",
       "      <td>6256</td>\n",
       "      <td>6060</td>\n",
       "      <td>2</td>\n",
       "    </tr>\n",
       "    <tr>\n",
       "      <th>top</th>\n",
       "      <td>OnPolitics | 's politics blog</td>\n",
       "      <td>Killing Obama administration rules, dismantlin...</td>\n",
       "      <td>REAL</td>\n",
       "    </tr>\n",
       "    <tr>\n",
       "      <th>freq</th>\n",
       "      <td>5</td>\n",
       "      <td>58</td>\n",
       "      <td>3171</td>\n",
       "    </tr>\n",
       "  </tbody>\n",
       "</table>\n",
       "</div>"
      ],
      "text/plain": [
       "                                title  \\\n",
       "count                            6335   \n",
       "unique                           6256   \n",
       "top     OnPolitics | 's politics blog   \n",
       "freq                                5   \n",
       "\n",
       "                                                     text label  \n",
       "count                                                6335  6335  \n",
       "unique                                               6060     2  \n",
       "top     Killing Obama administration rules, dismantlin...  REAL  \n",
       "freq                                                   58  3171  "
      ]
     },
     "execution_count": 8,
     "metadata": {},
     "output_type": "execute_result"
    }
   ],
   "source": [
    "df.describe()"
   ]
  },
  {
   "cell_type": "code",
   "execution_count": 9,
   "metadata": {},
   "outputs": [
    {
     "data": {
      "text/html": [
       "<div>\n",
       "<style scoped>\n",
       "    .dataframe tbody tr th:only-of-type {\n",
       "        vertical-align: middle;\n",
       "    }\n",
       "\n",
       "    .dataframe tbody tr th {\n",
       "        vertical-align: top;\n",
       "    }\n",
       "\n",
       "    .dataframe thead th {\n",
       "        text-align: right;\n",
       "    }\n",
       "</style>\n",
       "<table border=\"1\" class=\"dataframe\">\n",
       "  <thead>\n",
       "    <tr style=\"text-align: right;\">\n",
       "      <th></th>\n",
       "      <th>text_length</th>\n",
       "      <th>title_length</th>\n",
       "    </tr>\n",
       "  </thead>\n",
       "  <tbody>\n",
       "    <tr>\n",
       "      <th>count</th>\n",
       "      <td>6335.000000</td>\n",
       "      <td>6335.000000</td>\n",
       "    </tr>\n",
       "    <tr>\n",
       "      <th>mean</th>\n",
       "      <td>776.300710</td>\n",
       "      <td>10.496448</td>\n",
       "    </tr>\n",
       "    <tr>\n",
       "      <th>std</th>\n",
       "      <td>854.333358</td>\n",
       "      <td>3.985165</td>\n",
       "    </tr>\n",
       "    <tr>\n",
       "      <th>min</th>\n",
       "      <td>0.000000</td>\n",
       "      <td>1.000000</td>\n",
       "    </tr>\n",
       "    <tr>\n",
       "      <th>25%</th>\n",
       "      <td>289.000000</td>\n",
       "      <td>8.000000</td>\n",
       "    </tr>\n",
       "    <tr>\n",
       "      <th>50%</th>\n",
       "      <td>597.000000</td>\n",
       "      <td>10.000000</td>\n",
       "    </tr>\n",
       "    <tr>\n",
       "      <th>75%</th>\n",
       "      <td>1024.000000</td>\n",
       "      <td>13.000000</td>\n",
       "    </tr>\n",
       "    <tr>\n",
       "      <th>max</th>\n",
       "      <td>20891.000000</td>\n",
       "      <td>53.000000</td>\n",
       "    </tr>\n",
       "  </tbody>\n",
       "</table>\n",
       "</div>"
      ],
      "text/plain": [
       "        text_length  title_length\n",
       "count   6335.000000   6335.000000\n",
       "mean     776.300710     10.496448\n",
       "std      854.333358      3.985165\n",
       "min        0.000000      1.000000\n",
       "25%      289.000000      8.000000\n",
       "50%      597.000000     10.000000\n",
       "75%     1024.000000     13.000000\n",
       "max    20891.000000     53.000000"
      ]
     },
     "execution_count": 9,
     "metadata": {},
     "output_type": "execute_result"
    }
   ],
   "source": [
    "# Calculating the length of 'text' and 'title' columns for data visualization\n",
    "df['text_length'] = df['text'].str.split().str.len()\n",
    "df['title_length'] = df['title'].str.split().str.len()\n",
    "df.describe()"
   ]
  },
  {
   "cell_type": "code",
   "execution_count": 10,
   "metadata": {},
   "outputs": [
    {
     "data": {
      "text/plain": [
       "array([<matplotlib.axes._subplots.AxesSubplot object at 0x000001324EAC1550>,\n",
       "       <matplotlib.axes._subplots.AxesSubplot object at 0x000001324ED27CF8>],\n",
       "      dtype=object)"
      ]
     },
     "execution_count": 10,
     "metadata": {},
     "output_type": "execute_result"
    },
    {
     "data": {
      "image/png": "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\n",
      "text/plain": [
       "<matplotlib.figure.Figure at 0x1324eab8438>"
      ]
     },
     "metadata": {},
     "output_type": "display_data"
    }
   ],
   "source": [
    "# Histograms depicting the length of title for REAL and FAKE news.\n",
    "df.hist(column='title_length', by='label', bins=20,figsize=(16,6))"
   ]
  },
  {
   "cell_type": "code",
   "execution_count": 11,
   "metadata": {},
   "outputs": [
    {
     "data": {
      "text/plain": [
       "array([<matplotlib.axes._subplots.AxesSubplot object at 0x0000013251B96EB8>,\n",
       "       <matplotlib.axes._subplots.AxesSubplot object at 0x0000013252653CF8>],\n",
       "      dtype=object)"
      ]
     },
     "execution_count": 11,
     "metadata": {},
     "output_type": "execute_result"
    },
    {
     "data": {
      "image/png": "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\n",
      "text/plain": [
       "<matplotlib.figure.Figure at 0x1324ee4e5f8>"
      ]
     },
     "metadata": {},
     "output_type": "display_data"
    }
   ],
   "source": [
    "# Histograms depicting the length of body of message for REAL and FAKE news.\n",
    "df.hist(column='text_length', by='label', bins=50,figsize=(16,6))"
   ]
  },
  {
   "cell_type": "code",
   "execution_count": 12,
   "metadata": {},
   "outputs": [],
   "source": [
    "# Converting the strings of data into words. \n",
    "def text_process(mess):\n",
    "    nopunc = [char for char in mess if char not in string.punctuation]\n",
    "    nopunc = ''.join(nopunc)\n",
    "    return [word for word in nopunc.split() if word.lower() not in stopwords.words('english')]"
   ]
  },
  {
   "cell_type": "code",
   "execution_count": 45,
   "metadata": {},
   "outputs": [
    {
     "name": "stdout",
     "output_type": "stream",
     "text": [
      "128019\n"
     ]
    }
   ],
   "source": [
    "# This model has the whole text data as input\n",
    "# Vectorizing the data\n",
    "bow_transformer = CountVectorizer(analyzer=text_process).fit(df['text'])\n",
    "print(len(bow_transformer.vocabulary_))"
   ]
  },
  {
   "cell_type": "code",
   "execution_count": 46,
   "metadata": {},
   "outputs": [],
   "source": [
    "messages_bow = bow_transformer.transform(df['text'])"
   ]
  },
  {
   "cell_type": "code",
   "execution_count": 47,
   "metadata": {},
   "outputs": [],
   "source": [
    "# Tfidf of the text data\n",
    "tfidf_transformer = TfidfTransformer().fit(messages_bow)"
   ]
  },
  {
   "cell_type": "code",
   "execution_count": 48,
   "metadata": {},
   "outputs": [
    {
     "name": "stdout",
     "output_type": "stream",
     "text": [
      "(6335, 128019)\n"
     ]
    }
   ],
   "source": [
    "messages_tfidf = tfidf_transformer.transform(messages_bow)\n",
    "print(messages_tfidf.shape)"
   ]
  },
  {
   "cell_type": "code",
   "execution_count": 49,
   "metadata": {},
   "outputs": [],
   "source": [
    "# Fitting the trasformed data into NaiveBayes \n",
    "from sklearn.naive_bayes import MultinomialNB\n",
    "spam_detect_model = MultinomialNB().fit(messages_tfidf, df['label'])"
   ]
  },
  {
   "cell_type": "code",
   "execution_count": 50,
   "metadata": {},
   "outputs": [
    {
     "name": "stdout",
     "output_type": "stream",
     "text": [
      "['FAKE' 'REAL' 'REAL' ... 'FAKE' 'REAL' 'REAL']\n"
     ]
    }
   ],
   "source": [
    "all_predictions = spam_detect_model.predict(messages_tfidf)\n",
    "print(all_predictions)"
   ]
  },
  {
   "cell_type": "code",
   "execution_count": 51,
   "metadata": {},
   "outputs": [
    {
     "name": "stdout",
     "output_type": "stream",
     "text": [
      "0.8822415153906866\n"
     ]
    }
   ],
   "source": [
    "# Accuracy score for model when the whole text data is used as input\n",
    "print (accuracy_score(df['label'], all_predictions))"
   ]
  },
  {
   "cell_type": "code",
   "execution_count": 88,
   "metadata": {},
   "outputs": [],
   "source": [
    "# Defining a function which pre-processes the data and returns accuracy score for models 1 and 2\n",
    "def spam_classifier(X_train,y_train,X_test,y_test):\n",
    "    bow_transformer_train = CountVectorizer(analyzer=text_process).fit(X_train)\n",
    "    messages_bow_train = bow_transformer_train.transform(X_train)\n",
    "    tfidf_transformer_train = TfidfTransformer().fit(messages_bow_train)\n",
    "    messages_tfidf_train = tfidf_transformer_train.transform(messages_bow_train)\n",
    "    \n",
    "    #bow_transformer_test = CountVectorizer(analyzer=text_process).fit(X_test)\n",
    "    messages_bow_test = bow_transformer_train.transform(X_test)\n",
    "    #tfidf_transformer_test = TfidfTransformer().fit(messages_bow_test)\n",
    "    messages_tfidf_test = tfidf_transformer_train.transform(messages_bow_test)\n",
    "    \n",
    "    spam_detect_model = MultinomialNB().fit(messages_tfidf_train, y_train)\n",
    "    all_predictions = spam_detect_model.predict(messages_tfidf_test)\n",
    "    accuracy = accuracy_score(y_test, all_predictions)\n",
    "    return accuracy\n",
    "    \n",
    "                    "
   ]
  },
  {
   "cell_type": "code",
   "execution_count": 89,
   "metadata": {},
   "outputs": [
    {
     "data": {
      "text/plain": [
       "(5068,)"
      ]
     },
     "execution_count": 89,
     "metadata": {},
     "output_type": "execute_result"
    }
   ],
   "source": [
    "X1_train.shape"
   ]
  },
  {
   "cell_type": "code",
   "execution_count": 90,
   "metadata": {},
   "outputs": [],
   "source": [
    "X =df[['title','text']]"
   ]
  },
  {
   "cell_type": "code",
   "execution_count": 91,
   "metadata": {},
   "outputs": [],
   "source": [
    "# Diving the data into test and train sets\n",
    "X1_train, X1_test, y1_train, y1_test = train_test_split(df['text'], df['label'], test_size=0.2)\n",
    "X2_train, X2_test, y2_train, y2_test = train_test_split(df['title'], df['label'], test_size=0.2)\n",
    "X3_train, X3_test, y3_train, y3_test = train_test_split(X, df['label'], test_size=0.2)"
   ]
  },
  {
   "cell_type": "markdown",
   "metadata": {},
   "source": [
    "#### Model 1 which analyzes only text data"
   ]
  },
  {
   "cell_type": "code",
   "execution_count": 92,
   "metadata": {},
   "outputs": [
    {
     "data": {
      "text/plain": [
       "0.8176795580110497"
      ]
     },
     "execution_count": 92,
     "metadata": {},
     "output_type": "execute_result"
    }
   ],
   "source": [
    "spam_classifier(X1_train, y1_train,X1_test, y1_test)"
   ]
  },
  {
   "cell_type": "markdown",
   "metadata": {},
   "source": [
    "#### Model 2 which analyzes only title data"
   ]
  },
  {
   "cell_type": "code",
   "execution_count": 93,
   "metadata": {},
   "outputs": [
    {
     "data": {
      "text/plain": [
       "0.8271507498026835"
      ]
     },
     "execution_count": 93,
     "metadata": {},
     "output_type": "execute_result"
    }
   ],
   "source": [
    "spam_classifier(X2_train, y2_train,X2_test, y2_test)"
   ]
  },
  {
   "cell_type": "markdown",
   "metadata": {},
   "source": [
    "#### Model 3 which analyzes both title and text data"
   ]
  },
  {
   "cell_type": "code",
   "execution_count": 116,
   "metadata": {},
   "outputs": [],
   "source": [
    "bow_transformer_train_1 = CountVectorizer(analyzer=text_process).fit(X3_train['text'])\n",
    "messages_bow_train_1 = bow_transformer_train_1.transform(X3_train['text'])\n",
    "tfidf_transformer_train_1 = TfidfTransformer().fit(messages_bow_train_1)\n",
    "messages_tfidf_train_1 = tfidf_transformer_train_1.transform(messages_bow_train_1)\n",
    "train_1=pd.DataFrame(messages_tfidf_train_1.todense())\n",
    "\n",
    "bow_transformer_train_2 = CountVectorizer(analyzer=text_process).fit(X3_train['title'])\n",
    "messages_bow_train_2 = bow_transformer_train_2.transform(X3_train['title'])\n",
    "tfidf_transformer_train_2 = TfidfTransformer().fit(messages_bow_train_2)\n",
    "messages_tfidf_train_2 = tfidf_transformer_train_2.transform(messages_bow_train_2)\n",
    "train_2=pd.DataFrame(messages_tfidf_train_2.todense())\n",
    "\n",
    "model3_train= pd.concat([train_1, train_2], axis=1)\n",
    "\n",
    "\n",
    "\n",
    "\n",
    "messages_bow_test_1 = bow_transformer_train_1.transform(X3_test['text'])\n",
    "messages_tfidf_test_1 = tfidf_transformer_train_1.transform(messages_bow_test_1)\n",
    "test_1=pd.DataFrame(messages_tfidf_test_1.todense())\n",
    "\n",
    "messages_bow_test_2 = bow_transformer_train_2.transform(X3_test['title'])\n",
    "messages_tfidf_test_2 = tfidf_transformer_train_2.transform(messages_bow_test_2)\n",
    "test_2=pd.DataFrame(messages_tfidf_test_2.todense())\n",
    "\n",
    "model3_test= pd.concat([test_1, test_2], axis=1)"
   ]
  },
  {
   "cell_type": "code",
   "execution_count": 118,
   "metadata": {},
   "outputs": [],
   "source": [
    "model3_train= pd.concat([train_1, train_2], axis=1)"
   ]
  },
  {
   "cell_type": "code",
   "execution_count": 119,
   "metadata": {},
   "outputs": [
    {
     "name": "stdout",
     "output_type": "stream",
     "text": [
      "0.856353591160221\n"
     ]
    }
   ],
   "source": [
    "### Accuracy of model 3\n",
    "spam_detect_model = MultinomialNB().fit(model3_train, y3_train)\n",
    "all_predictions = spam_detect_model.predict(model3_test)\n",
    "accuracy = accuracy_score(y3_test, all_predictions)\n",
    "print(accuracy)"
   ]
  },
  {
   "cell_type": "markdown",
   "metadata": {},
   "source": [
    "#### Conclusion:\n",
    "1. Of the three models, the model which has both text and title data as input has the best accuracy (85.6)\n",
    "2. The second best model has title data as input with a accuracy score of 82.7\n"
   ]
  },
  {
   "cell_type": "code",
   "execution_count": null,
   "metadata": {},
   "outputs": [],
   "source": []
  }
 ],
 "metadata": {
  "kernelspec": {
   "display_name": "Python 3",
   "language": "python",
   "name": "python3"
  },
  "language_info": {
   "codemirror_mode": {
    "name": "ipython",
    "version": 3
   },
   "file_extension": ".py",
   "mimetype": "text/x-python",
   "name": "python",
   "nbconvert_exporter": "python",
   "pygments_lexer": "ipython3",
   "version": "3.6.5"
  }
 },
 "nbformat": 4,
 "nbformat_minor": 2
}
